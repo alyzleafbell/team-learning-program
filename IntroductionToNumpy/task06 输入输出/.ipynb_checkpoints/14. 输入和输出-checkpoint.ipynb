{
 "cells": [
  {
   "cell_type": "markdown",
   "metadata": {},
   "source": [
    "# 输入和输出\n",
    "\n",
    "\n",
    "\n",
    "## numpy 二进制文件\n",
    "\n",
    "`save()`、`savez()`和`load()`函数以 numpy 专用的二进制类型（npy、npz）保存和读取数据，这三个函数会自动处理ndim、dtype、shape等信息，使用它们读写数组非常方便，但是`save()`输出的文件很难与其它语言编写的程序兼容。\n",
    "\n",
    "npy格式：以二进制的方式存储文件，在二进制文件第一行以文本形式保存了数据的元信息（ndim，dtype，shape等），可以用二进制工具查看内容。\n",
    "\n",
    "npz格式：以压缩打包的方式存储文件，可以用压缩软件解压。\n",
    "\n",
    "\n",
    "- `numpy.save(file, arr, allow_pickle=True, fix_imports=True)` Save an array to a binary file in NumPy `.npy` format.\n",
    "- `numpy.load(file, mmap_mode=None, allow_pickle=False, fix_imports=True, encoding='ASCII')` Load arrays or pickled objects from ``.npy``, ``.npz`` or pickled files.\n",
    "\n",
    "\n",
    "【例】\n",
    "```python"
   ]
  },
  {
   "cell_type": "code",
   "execution_count": 1,
   "metadata": {},
   "outputs": [
    {
     "name": "stdout",
     "output_type": "stream",
     "text": [
      "[[0.46830448 0.7614373  0.847808   0.26854982 0.25388829]\n",
      " [0.97978588 0.99149729 0.05700845 0.72759402 0.24990821]\n",
      " [0.59780516 0.27358463 0.16621443 0.92630712 0.03858114]]\n"
     ]
    }
   ],
   "source": [
    "import numpy as np\n",
    "\n",
    "outfile = r'.\\test.npy'\n",
    "np.random.seed(20201122)\n",
    "x = np.random.uniform(0, 1, [3, 5])\n",
    "np.save(outfile, x)\n",
    "y = np.load(outfile)\n",
    "print(y)"
   ]
  },
  {
   "cell_type": "markdown",
   "metadata": {},
   "source": [
    "- `numpy.savez(file, *args, **kwds)` Save several arrays into a single file in uncompressed `.npz` format.\n",
    "\n",
    "`savez()`第一个参数是文件名，其后的参数都是需要保存的数组，也可以使用关键字参数为数组起一个名字，非关键字参数传递的数组会自动起名为`arr_0, arr_1, …`。\n",
    "\n",
    "`savez()`输出的是一个压缩文件（扩展名为npz），其中每个文件都是一个`save()`保存的npy文件，文件名对应于数组名。`load()`自动识别npz文件，并且返回一个类似于字典的对象，可以通过数组名作为关键字获取数组的内容。\n",
    "\n",
    "【例】将多个数组保存到一个文件，可以使用`numpy.savez()`函数。\n",
    "```python"
   ]
  },
  {
   "cell_type": "code",
   "execution_count": 2,
   "metadata": {},
   "outputs": [
    {
     "name": "stdout",
     "output_type": "stream",
     "text": [
      "['z_d', 'arr_0', 'arr_1']\n",
      "[0.         0.78539816 1.57079633 2.35619449 3.14159265]\n",
      "[0.         0.70710678 1.         0.70710678 0.        ]\n",
      "[ 1.          0.70710678  0.         -0.70710678 -1.        ]\n"
     ]
    }
   ],
   "source": [
    "import numpy as np\n",
    "\n",
    "outfile = r'.\\test.npz'\n",
    "x = np.linspace(0, np.pi, 5)\n",
    "y = np.sin(x)\n",
    "z = np.cos(x)\n",
    "np.savez(outfile, x, y, z_d=z)\n",
    "data = np.load(outfile)\n",
    "np.set_printoptions(suppress=True)\n",
    "print(data.files)  \n",
    "# ['z_d', 'arr_0', 'arr_1']\n",
    "\n",
    "print(data['arr_0'])\n",
    "# [0.         0.78539816 1.57079633 2.35619449 3.14159265]\n",
    "\n",
    "print(data['arr_1'])\n",
    "# [0.         0.70710678 1.         0.70710678 0.        ]\n",
    "\n",
    "print(data['z_d'])\n",
    "# [ 1.          0.70710678  0.         -0.70710678 -1.        ]"
   ]
  },
  {
   "cell_type": "markdown",
   "metadata": {},
   "source": [
    "## 文本文件\n",
    "`savetxt()`，`loadtxt()`和`genfromtxt()`函数用来存储和读取文本文件（如TXT，CSV等）。`genfromtxt()`比`loadtxt()`更加强大，可对缺失数据进行处理。\n",
    "\n",
    "- `numpy.savetxt(fname, X, fmt='%.18e', delimiter=' ', newline='\\n', header='', footer='', comments='# ', encoding=None)` Save an array to a text file.\n",
    "    - fname：文件路径\n",
    "    - X：存入文件的数组。\n",
    "    - fmt：写入文件中每个元素的字符串格式，默认'%.18e'（保留18位小数的浮点数形式）。\n",
    "    - delimiter：分割字符串，默认以空格分隔。\n",
    "\n",
    "\n",
    "- `numpy.loadtxt(fname, dtype=float, comments='#', delimiter=None, converters=None, skiprows=0, usecols=None, unpack=False, ndmin=0, encoding='bytes', max_rows=None)` Load data from a text file. \n",
    "    - fname：文件路径。\n",
    "    - dtype：数据类型，默认为float。\n",
    "    - comments: 字符串或字符串组成的列表，默认为# ， 表示注释字符集开始的标志。\n",
    "    - skiprows：跳过多少行，一般跳过第一行表头。\n",
    "    - usecols：元组（元组内数据为列的数值索引）， 用来指定要读取数据的列（第一列为0）。\n",
    "    - unpack：当加载多列数据时是否需要将数据列进行解耦赋值给不同的变量。"
   ]
  },
  {
   "cell_type": "code",
   "execution_count": 3,
   "metadata": {},
   "outputs": [
    {
     "name": "stdout",
     "output_type": "stream",
     "text": [
      "[[0. 1. 2. 3. 4.]\n",
      " [5. 6. 7. 8. 9.]]\n"
     ]
    }
   ],
   "source": [
    "#【例】写入和读出TXT文件。\n",
    "import numpy as np\n",
    "\n",
    "outfile = r'.\\test.txt'\n",
    "x = np.arange(0, 10).reshape(2, -1)\n",
    "np.savetxt(outfile, x)\n",
    "y = np.loadtxt(outfile)\n",
    "print(y)"
   ]
  },
  {
   "cell_type": "code",
   "execution_count": 4,
   "metadata": {},
   "outputs": [
    {
     "name": "stdout",
     "output_type": "stream",
     "text": [
      "[[0.  0.5 1.  1.5 2. ]\n",
      " [2.5 3.  3.5 4.  4.5]\n",
      " [5.  5.5 6.  6.5 7. ]\n",
      " [7.5 8.  8.5 9.  9.5]]\n"
     ]
    }
   ],
   "source": [
    "#【例】写入和读出CSV文件。\n",
    "import numpy as np\n",
    "\n",
    "outfile = r'.\\test.csv'\n",
    "x = np.arange(0, 10, 0.5).reshape(4, -1)\n",
    "np.savetxt(outfile, x, fmt='%.3f', delimiter=',')\n",
    "y = np.loadtxt(outfile, delimiter=',')\n",
    "print(y)"
   ]
  },
  {
   "cell_type": "code",
   "execution_count": 11,
   "metadata": {},
   "outputs": [
    {
     "name": "stdout",
     "output_type": "stream",
     "text": [
      "[[  1.  123.    1.4  23. ]\n",
      " [  2.  110.    0.5  18. ]\n",
      " [  3.  164.    2.1  19. ]]\n"
     ]
    }
   ],
   "source": [
    "import numpy as np\n",
    "\n",
    "outfile = r'.\\data.txt'\n",
    "x = np.loadtxt(outfile, delimiter=',', skiprows=1)\n",
    "print(x)"
   ]
  },
  {
   "cell_type": "code",
   "execution_count": 12,
   "metadata": {},
   "outputs": [
    {
     "name": "stdout",
     "output_type": "stream",
     "text": [
      "[[123.    1.4]\n",
      " [110.    0.5]\n",
      " [164.    2.1]]\n"
     ]
    }
   ],
   "source": [
    "x = np.loadtxt(outfile, delimiter=',', skiprows=1, usecols=(1, 2))\n",
    "print(x)"
   ]
  },
  {
   "cell_type": "code",
   "execution_count": 14,
   "metadata": {},
   "outputs": [
    {
     "name": "stdout",
     "output_type": "stream",
     "text": [
      "[123. 110. 164.] [1.4 0.5 2.1]\n"
     ]
    }
   ],
   "source": [
    "val1, val2 = np.loadtxt(outfile, delimiter=',', skiprows=1, usecols=(1, 2), unpack=True)\n",
    "print(val1,val2)"
   ]
  },
  {
   "cell_type": "code",
   "execution_count": 15,
   "metadata": {},
   "outputs": [
    {
     "name": "stdout",
     "output_type": "stream",
     "text": [
      "[(1., 123., 1.4, 23.) (2., 110., 0.5, 18.) (3., 164., 2.1, 19.)]\n"
     ]
    }
   ],
   "source": [
    "x = np.genfromtxt(outfile, delimiter=',', names=True)\n",
    "print(x)"
   ]
  },
  {
   "cell_type": "markdown",
   "metadata": {},
   "source": [
    "## 文本格式选项\n",
    "\n",
    "- `numpy.set_printoptions(precision=None,threshold=None, edgeitems=None,linewidth=None, suppress=None, nanstr=None, infstr=None,formatter=None, sign=None, floatmode=None, **kwarg)` Set printing options.\n",
    "    - `precision`：设置浮点精度，控制输出的小数点个数，默认是8。\n",
    "    - `threshold`：概略显示，超过该值则以“…”的形式来表示，默认是1000。\n",
    "    - `linewidth`：用于确定每行多少字符数后插入换行符，默认为75。\n",
    "    - `suppress`：当`suppress=True`，表示小数不需要以科学计数法的形式输出，默认是False。\n",
    "    - `nanstr`：浮点非数字的字符串表示形式，默认`nan`。\n",
    "    - `infstr`：浮点无穷大的字符串表示形式，默认`inf`。\n",
    "\n",
    "These options determine the way floating point numbers, arrays and other NumPy objects are displayed.\n"
   ]
  },
  {
   "cell_type": "code",
   "execution_count": 17,
   "metadata": {},
   "outputs": [
    {
     "data": {
      "text/plain": [
       "2147483647"
      ]
     },
     "execution_count": 17,
     "metadata": {},
     "output_type": "execute_result"
    }
   ],
   "source": [
    "np.iinfo(np.int).max"
   ]
  },
  {
   "cell_type": "code",
   "execution_count": 18,
   "metadata": {},
   "outputs": [
    {
     "name": "stdout",
     "output_type": "stream",
     "text": [
      "[1.1235]\n",
      "[ 0  1  2 ... 47 48 49]\n",
      "[ 0  1  2  3  4  5  6  7  8  9 10 11 12 13 14 15 16 17 18 19 20 21 22 23\n",
      " 24 25 26 27 28 29 30 31 32 33 34 35 36 37 38 39 40 41 42 43 44 45 46 47\n",
      " 48 49]\n",
      "[-4.9304e-32 -4.4409e-16  0.0000e+00  0.0000e+00]\n",
      "[-0. -0.  0.  0.]\n"
     ]
    }
   ],
   "source": [
    "import numpy as np\n",
    "\n",
    "np.set_printoptions(precision=4)\n",
    "x = np.array([1.123456789])\n",
    "print(x)  # [1.1235]\n",
    "\n",
    "np.set_printoptions(threshold=20)\n",
    "x = np.arange(50)\n",
    "print(x)  # [ 0  1  2 ... 47 48 49]\n",
    "\n",
    "np.set_printoptions(threshold=np.iinfo(np.int).max)\n",
    "print(x)\n",
    "# [ 0  1  2  3  4  5  6  7  8  9 10 11 12 13 14 15 16 17 18 19 20 21 22 23\n",
    "#  24 25 26 27 28 29 30 31 32 33 34 35 36 37 38 39 40 41 42 43 44 45 46 47\n",
    "#  48 49]\n",
    "\n",
    "eps = np.finfo(float).eps\n",
    "x = np.arange(4.)\n",
    "np.set_printoptions(suppress=False)\n",
    "x = x ** 2 - (x + eps) ** 2\n",
    "print(x)  \n",
    "# [-4.9304e-32 -4.4409e-16  0.0000e+00  0.0000e+00]\n",
    "np.set_printoptions(suppress=True)\n",
    "print(x)  # [-0. -0.  0.  0.]"
   ]
  },
  {
   "cell_type": "code",
   "execution_count": 19,
   "metadata": {},
   "outputs": [
    {
     "name": "stdout",
     "output_type": "stream",
     "text": [
      "[ 0.      1.1111  2.2222  3.3333  4.4444  5.5556  6.6667  7.7778  8.8889\n",
      " 10.    ]\n",
      "[ 0.    1.11  2.22 ...  7.78  8.89 10.  ]\n"
     ]
    }
   ],
   "source": [
    "x = np.linspace(0, 10, 10)\n",
    "print(x)\n",
    "# [ 0.      1.1111  2.2222  3.3333  4.4444  5.5556  6.6667  7.7778  8.8889\n",
    "#  10.    ]\n",
    "np.set_printoptions(precision=2, suppress=True, threshold=5)\n",
    "print(x) "
   ]
  },
  {
   "cell_type": "code",
   "execution_count": 20,
   "metadata": {},
   "outputs": [
    {
     "name": "stdout",
     "output_type": "stream",
     "text": [
      "{'edgeitems': 3, 'threshold': 5, 'floatmode': 'maxprec', 'precision': 2, 'suppress': True, 'linewidth': 75, 'nanstr': 'nan', 'infstr': 'inf', 'sign': '-', 'formatter': None, 'legacy': False}\n"
     ]
    }
   ],
   "source": [
    "\n",
    "x = np.get_printoptions()\n",
    "print(x)"
   ]
  }
 ],
 "metadata": {
  "kernelspec": {
   "display_name": "Python 3",
   "language": "python",
   "name": "python3"
  },
  "language_info": {
   "codemirror_mode": {
    "name": "ipython",
    "version": 3
   },
   "file_extension": ".py",
   "mimetype": "text/x-python",
   "name": "python",
   "nbconvert_exporter": "python",
   "pygments_lexer": "ipython3",
   "version": "3.6.8"
  },
  "toc": {
   "base_numbering": 1,
   "nav_menu": {},
   "number_sections": true,
   "sideBar": true,
   "skip_h1_title": false,
   "title_cell": "Table of Contents",
   "title_sidebar": "Contents",
   "toc_cell": false,
   "toc_position": {},
   "toc_section_display": true,
   "toc_window_display": true
  },
  "varInspector": {
   "cols": {
    "lenName": 16,
    "lenType": 16,
    "lenVar": 40
   },
   "kernels_config": {
    "python": {
     "delete_cmd_postfix": "",
     "delete_cmd_prefix": "del ",
     "library": "var_list.py",
     "varRefreshCmd": "print(var_dic_list())"
    },
    "r": {
     "delete_cmd_postfix": ") ",
     "delete_cmd_prefix": "rm(",
     "library": "var_list.r",
     "varRefreshCmd": "cat(var_dic_list()) "
    }
   },
   "types_to_exclude": [
    "module",
    "function",
    "builtin_function_or_method",
    "instance",
    "_Feature"
   ],
   "window_display": false
  }
 },
 "nbformat": 4,
 "nbformat_minor": 4
}
