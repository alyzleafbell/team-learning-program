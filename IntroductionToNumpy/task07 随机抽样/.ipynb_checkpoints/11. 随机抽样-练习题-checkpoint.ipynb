{
 "cells": [
  {
   "cell_type": "markdown",
   "metadata": {},
   "source": [
    "**创建一个形为5×3的二维数组，以包含5到10之间的随机数。**\n",
    "\n",
    "【知识点：随机抽样】\n",
    "- 如何创建随机二维数组？"
   ]
  },
  {
   "cell_type": "code",
   "execution_count": 1,
   "metadata": {
    "ExecuteTime": {
     "end_time": "2020-09-06T03:02:49.540699Z",
     "start_time": "2020-09-06T03:02:49.430660Z"
    }
   },
   "outputs": [
    {
     "name": "stdout",
     "output_type": "stream",
     "text": [
      "[[7 5 8]\n",
      " [6 7 9]\n",
      " [6 9 5]\n",
      " [5 6 6]\n",
      " [9 8 7]]\n",
      "[[8.30444096 6.79480756 5.54922052]\n",
      " [8.27029804 8.12174673 8.32339563]\n",
      " [9.20136603 6.27642721 5.25140473]\n",
      " [9.24150775 6.95803094 8.64050517]\n",
      " [6.74796417 5.9061629  8.05604914]]\n"
     ]
    }
   ],
   "source": [
    "import numpy as np\n",
    "\n",
    "x = np.random.randint(5, 10, [5, 3])\n",
    "print(x)\n",
    "# [[5 8 8]\n",
    "#  [5 6 8]\n",
    "#  [8 8 7]\n",
    "#  [6 7 9]\n",
    "#  [6 5 8]]\n",
    "\n",
    "x = np.random.uniform(5, 10, [5, 3])\n",
    "print(x)\n",
    "# [[6.73675226 8.50271284 9.66526032]\n",
    "#  [9.42365472 7.56513263 7.86171898]\n",
    "#  [9.31718935 5.71579324 9.92067933]\n",
    "#  [8.90907128 8.05704153 6.0189007 ]\n",
    "#  [8.70753644 7.75056151 5.71714203]]"
   ]
  },
  {
   "cell_type": "code",
   "execution_count": null,
   "metadata": {},
   "outputs": [],
   "source": [
    "## 随机抽样知识点总结：\n",
    "* 1. numpy.random提供了多种随机采样的函数，随机采样可设置符合某统计分布；\n",
    "* 2. 离散随机数抽样，可设置抽样符合这些分布：二项分布，泊松分布，超几何分布；\n",
    "* 3. 连续随机数抽样，可符合分布；均匀分布，正态分布，指数分布；\n",
    "* 4. 其他随机相关函数：从一个序列随机取值；洗牌一个序列；\n",
    "* 5. 二项分布采样，可模拟投掷硬币这类只有两种状态的随机事件；\n",
    "* 6. 泊松分布：指定单位时间平均事件次数，可模拟单位时间实践次数的随机值；\n",
    "* 7. 超几何分布：给定总样本数，成功次数，失败次数，取样次数，以及取样中成功次数，模拟随机分布结果；\n",
    "* 8. 均匀分布：给定取值范围内均匀分布的连续随机数；\n",
    "* 9. 正太分布：设定平均值和方差，数组大小，即可返回符合正态分布的随机数数组；\n",
    "* 10. 指数分布：事件发生的时间间隔的分布"
   ]
  }
 ],
 "metadata": {
  "kernelspec": {
   "display_name": "Python 3",
   "language": "python",
   "name": "python3"
  },
  "language_info": {
   "codemirror_mode": {
    "name": "ipython",
    "version": 3
   },
   "file_extension": ".py",
   "mimetype": "text/x-python",
   "name": "python",
   "nbconvert_exporter": "python",
   "pygments_lexer": "ipython3",
   "version": "3.6.8"
  },
  "toc": {
   "base_numbering": 1,
   "nav_menu": {},
   "number_sections": true,
   "sideBar": true,
   "skip_h1_title": false,
   "title_cell": "Table of Contents",
   "title_sidebar": "Contents",
   "toc_cell": false,
   "toc_position": {},
   "toc_section_display": true,
   "toc_window_display": false
  },
  "varInspector": {
   "cols": {
    "lenName": 16,
    "lenType": 16,
    "lenVar": 40
   },
   "kernels_config": {
    "python": {
     "delete_cmd_postfix": "",
     "delete_cmd_prefix": "del ",
     "library": "var_list.py",
     "varRefreshCmd": "print(var_dic_list())"
    },
    "r": {
     "delete_cmd_postfix": ") ",
     "delete_cmd_prefix": "rm(",
     "library": "var_list.r",
     "varRefreshCmd": "cat(var_dic_list()) "
    }
   },
   "types_to_exclude": [
    "module",
    "function",
    "builtin_function_or_method",
    "instance",
    "_Feature"
   ],
   "window_display": false
  }
 },
 "nbformat": 4,
 "nbformat_minor": 4
}
